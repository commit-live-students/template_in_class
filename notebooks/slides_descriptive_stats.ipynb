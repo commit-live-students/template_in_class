{
 "cells": [
  {
   "cell_type": "markdown",
   "metadata": {
    "slideshow": {
     "slide_type": "slide"
    }
   },
   "source": [
    "<h1 align=\"center\">Summarizing your Data </h1>"
   ]
  },
  {
   "cell_type": "markdown",
   "metadata": {
    "slideshow": {
     "slide_type": "subslide"
    }
   },
   "source": [
    "<img src=\"../images/Probability-and-Statistics.png\" alt=\"Python\" style=\"width: 400px;\"/>"
   ]
  },
  {
   "cell_type": "markdown",
   "metadata": {
    "slideshow": {
     "slide_type": "slide"
    }
   },
   "source": [
    "## Program so far\n",
    "***\n",
    "- Python Basics\n",
    "- Functions\n",
    "- Object Oriented Programming in Python\n",
    "- NumPy\n",
    "- Pandas\n",
    "- Python Data Visualization Libraries\n",
    "    - Plot Types    \n",
    "    - Plot Customization"
   ]
  },
  {
   "cell_type": "markdown",
   "metadata": {
    "slideshow": {
     "slide_type": "slide"
    }
   },
   "source": [
    "## Agenda for the Day\n",
    "***\n",
    "- Mean\n",
    "- Median\n",
    "- Spread\n",
    "    - Range\n",
    "    - Interquantile Range\n",
    "- Mode\n",
    "- Variance\n",
    "- Correlation v/s Causation"
   ]
  },
  {
   "cell_type": "markdown",
   "metadata": {
    "slideshow": {
     "slide_type": "slide"
    }
   },
   "source": [
    "## Meet John Doe...He may not be from Earth but still\n",
    "***\n",
    "<center><img src=\"../images/meme_johndoe.jpg\" alt=\"Drawing\" style=\"width: 350px;\"/></center>"
   ]
  },
  {
   "cell_type": "markdown",
   "metadata": {
    "slideshow": {
     "slide_type": "slide"
    }
   },
   "source": [
    "## John Doe's Decision\n",
    "***\n",
    "It seems like John Doe has made a massive decision to move to New York City\n",
    "\n",
    " - He's determined to buy a house with his savings and ready to settle in the Big Apple\n",
    " - He's been in love with Brooklyn ever since he visited it in 2003 as a college kid\n",
    " - But he's looking for a Good house in Brooklyn, New York!\n",
    " ***\n",
    "<center><img src=\"../images/nyc.png\" alt=\"Drawing\" style=\"width: 200px;\"/></center>\n",
    " \n",
    " "
   ]
  },
  {
   "cell_type": "markdown",
   "metadata": {
    "slideshow": {
     "slide_type": "slide"
    }
   },
   "source": [
    "## More on John Doe\n",
    "***\n",
    " - Notice that Brooklyn is 1 of 5 neighborhoods or as they say \"boroughs\" of New York City \n",
    " - Prices of houses vary by neighborhood!\n",
    " - Jonh Doe does some research while he sits back in his temporary rented apartment and get's a list of 1460 houses\n",
    " - Let's have a look at 15 of these so-called house prices!"
   ]
  },
  {
   "cell_type": "code",
   "execution_count": 1,
   "metadata": {
    "slideshow": {
     "slide_type": "slide"
    }
   },
   "outputs": [
    {
     "data": {
      "text/plain": [
       "0     208500\n",
       "1     181500\n",
       "2     223500\n",
       "3     140000\n",
       "4     250000\n",
       "5     143000\n",
       "6     307000\n",
       "7     200000\n",
       "8     129900\n",
       "9     118000\n",
       "10    129500\n",
       "11    345000\n",
       "12    144000\n",
       "13    279500\n",
       "14    157000\n",
       "Name: SalePrice, dtype: int64"
      ]
     },
     "execution_count": 1,
     "metadata": {},
     "output_type": "execute_result"
    }
   ],
   "source": [
    "import pandas as pd \n",
    "data = pd.read_csv(\"../data/train.csv\")\n",
    "Sales_price = pd.Series(data['SalePrice'])\n",
    "Sales_price.head(15)"
   ]
  },
  {
   "cell_type": "markdown",
   "metadata": {
    "slideshow": {
     "slide_type": "slide"
    }
   },
   "source": [
    "## John's Approach - 1 (1/2)\n",
    "***\n",
    " - John's thoughts: \"Well, I don't really know how I should manage my funds to purchase the house of my dreams? The Prices are all over!!\"\n",
    " - Well, he's right, we see that some houses are ~120,000 dollars and some are over ~200,000 \n",
    " "
   ]
  },
  {
   "cell_type": "markdown",
   "metadata": {
    "slideshow": {
     "slide_type": "subslide"
    }
   },
   "source": [
    "## John's Approach - 1 (2/2)\n",
    "***\n",
    "\n",
    "- **AND THIS IS JUST IN 15 OBSERVATIONS OF THE DATA**\n",
    "- I agree with John, if you've been to NYC you'd know how expensive it is to just survive there! So obviously, every penny counts. \n",
    "- So around what amount should John finalize on managing his funds? He needs money for other things too; like food, etc. "
   ]
  },
  {
   "cell_type": "markdown",
   "metadata": {
    "slideshow": {
     "slide_type": "slide"
    }
   },
   "source": [
    "## John's Approach - 1\n",
    "***\n",
    " - John thinks hard and realizes that it's best if he finds out what price the houses are centered about so he get's an idea of how secure or short he is, financially speaking\n",
    " - He decides to add all the prices and divide it by the total number of houses, the prices of which he had researched\n",
    " "
   ]
  },
  {
   "cell_type": "markdown",
   "metadata": {
    "slideshow": {
     "slide_type": "subslide"
    }
   },
   "source": [
    "**What has John done?** \n",
    "\n",
    " - John has calculated nothing but the Average of all the House Prices! \n",
    " - Popularly, this is also know as the Arithmetic Mean, where: \n",
    " \n",
    "         Mean = Sum of all Observations / No. of Observations"
   ]
  },
  {
   "cell_type": "markdown",
   "metadata": {
    "slideshow": {
     "slide_type": "slide"
    }
   },
   "source": [
    "## John's Approach - 1\n",
    "***\n",
    " - John calculates the **Mean** \n",
    " - He get's an value of ~180,922 dollars!\n",
    " - Now, he has a decent idea of what he should be expecting at least and this kind of reduces some panic-striken stress in him! \n",
    " "
   ]
  },
  {
   "cell_type": "code",
   "execution_count": 2,
   "metadata": {
    "slideshow": {
     "slide_type": "subslide"
    }
   },
   "outputs": [
    {
     "name": "stdout",
     "output_type": "stream",
     "text": [
      "180921.19589\n"
     ]
    }
   ],
   "source": [
    "import numpy as np\n",
    "mean = np.mean(Sales_price)\n",
    "print(mean)"
   ]
  },
  {
   "attachments": {
    "sample_mean.gif": {
     "image/gif": "[encoded data removed]"
    }
   },
   "cell_type": "markdown",
   "metadata": {
    "slideshow": {
     "slide_type": "slide"
    }
   },
   "source": [
    "<img src=\"../images/Concept-Alert.png\" alt=\"Concept-Alert\" style=\"width: 100px;float:left; margin-right:15px\"/>\n",
    "<br /> \n",
    "\n",
    "## John's Math\n",
    "***\n",
    "Mathematically speaking, what John did can be applied on a large scale to almost any number of observations one wants to consider to calculate the mean: \n",
    "***\n",
    "![sample_mean.gif](attachment:sample_mean.gif)"
   ]
  },
  {
   "cell_type": "markdown",
   "metadata": {
    "slideshow": {
     "slide_type": "subslide"
    }
   },
   "source": [
    "Where,\n",
    "\n",
    "-       N = Number of Houses researched\n",
    "-       x_i = price of House \"i\" (for i= 1,.....,N)\n",
    "\n",
    "The advantage of mean is that it takes every value into account, easy to calculate and further analysis calculation can be done easily as it is a unique value of the dataset."
   ]
  },
  {
   "cell_type": "markdown",
   "metadata": {
    "slideshow": {
     "slide_type": "subslide"
    }
   },
   "source": [
    "This formula can also be generalized where \n",
    "\n",
    "-       N = Number of observations\n",
    "-       x_i = value of observation \"i\" (for i= 1,.....,N)"
   ]
  },
  {
   "cell_type": "markdown",
   "metadata": {
    "slideshow": {
     "slide_type": "slide"
    }
   },
   "source": [
    "## Understanding John's Approach - 1 \n",
    "***\n",
    "- John estimated that on an average the houses are sold for ~180,222 dollars throughout Brooklyn \n",
    "- This gave him an idea. But John was skeptical about this method. We all are if we get the answer too easily! \n",
    "- John read about how the mean is not a good approach and started reading \"The Mean is often affected by Outliers, thus the median is a better statistic..\"\n",
    "- Median? Outliers? Inter-quartile Range? Confused, John does some further research.."
   ]
  },
  {
   "cell_type": "markdown",
   "metadata": {
    "slideshow": {
     "slide_type": "slide"
    }
   },
   "source": [
    "<img src=\"../images/Concept-Alert.png\" alt=\"Concept-Alert\" style=\"width: 100px;float:left; margin-right:15px\"/>\n",
    "<br /> \n",
    "## Median, Inter-Quartile Range (IQR) & Outliers (1/2)\n",
    "***\n",
    "- The **Median** is the nothing but the middle value when all values are arranged in Ascending Order! "
   ]
  },
  {
   "cell_type": "markdown",
   "metadata": {
    "slideshow": {
     "slide_type": "subslide"
    }
   },
   "source": [
    "<img src=\"../images/Concept-Alert.png\" alt=\"Concept-Alert\" style=\"width: 100px;float:left; margin-right:15px\"/>\n",
    "<br /> \n",
    "## Median, Inter-Quartile Range (IQR) & Outliers (2/2)\n",
    "\n",
    "***\n",
    "- **It is the value where the upper half of the data lies above it and lower half lies below it. In other words, it is the middle value of a data set.**\n",
    "- If number of values is ODD – then there is only one middle term is the median i.e.:\n",
    "     - Median = (N+1)/2 th position element.\n",
    "- Let's understand this with an example\n",
    " \n",
    " "
   ]
  },
  {
   "cell_type": "markdown",
   "metadata": {
    "slideshow": {
     "slide_type": "slide"
    }
   },
   "source": [
    "<img src=\"../images/Concept-Alert.png\" alt=\"Concept-Alert\" style=\"width: 100px;float:left; margin-right:15px\"/>\n",
    "<br /> \n",
    "## Median (1/2)\n",
    "***\n",
    " - Example – Find the median of the values – 110, 90, 40, 50, 125, 65, 100 \n",
    "     - Arranging values in ascending order – 40, 50, 65, 90, 100, 110, 125\n",
    "     - Here N = 7 (Odd), Median = (7+1)/2 = 4th position element = 90\n",
    "     - If number of values is EVEN then median will be *average* of  **(N/2)th and ((N/2) +1)th** element"
   ]
  },
  {
   "cell_type": "markdown",
   "metadata": {
    "slideshow": {
     "slide_type": "subslide"
    }
   },
   "source": [
    "<img src=\"../images/Concept-Alert.png\" alt=\"Concept-Alert\" style=\"width: 100px;float:left; margin-right:15px\"/>\n",
    "<br /> \n",
    "## Median (2/2)\n",
    "***\n",
    "- Example – Find the median of the values –10, 15, 20, 23, 24, 25, 25, 27, 30, 32, 40, 45\n",
    "    - Here N = 12 (Even), Median = Avg of 12/2  = 6th and (12/2)+1 = 7th element =  (25 + 25)/2 = 25.\n",
    "    - Note that the values are already arranged in Ascending Order"
   ]
  },
  {
   "cell_type": "markdown",
   "metadata": {
    "slideshow": {
     "slide_type": "slide"
    }
   },
   "source": [
    "<img src=\"../images/Concept-Alert.png\" alt=\"Concept-Alert\" style=\"width: 100px;float:left; margin-right:15px\"/>\n",
    "<br /> \n",
    "## Inter-Quartile Range - Intuition (1/3)\n",
    "***\n",
    "- A very intuitive approach to IQR is a measure of variability, based on dividing a data set into quartiles\n",
    "- John is going to calculate the IQR on his House Prices Data soon"
   ]
  },
  {
   "cell_type": "markdown",
   "metadata": {
    "slideshow": {
     "slide_type": "subslide"
    }
   },
   "source": [
    "<img src=\"../images/Concept-Alert.png\" alt=\"Concept-Alert\" style=\"width: 100px;float:left; margin-right:15px\"/>\n",
    "<br /> \n",
    "## Inter-Quartile Range - Intuition (2/3)\n",
    "***\n",
    "- Basically from the image below: Quartiles divide a rank-ordered data set into four equal parts. The values that divide each part are called the first, second, and third quartiles where\n",
    "- Q1 is the \"middle\" value in the first half of the rank-ordered data set.\n",
    "- Q2 is the median value in the set.\n",
    "- Q3 is the \"middle\" value in the second half of the rank-ordered data set."
   ]
  },
  {
   "cell_type": "markdown",
   "metadata": {
    "slideshow": {
     "slide_type": "subslide"
    }
   },
   "source": [
    "<img src=\"../images/Concept-Alert.png\" alt=\"Concept-Alert\" style=\"width: 100px;float:left; margin-right:15px\"/>\n",
    "<br /> \n",
    "## Inter-Quartile Range - Intuition (3/3)\n",
    "***\n",
    "<center><img src=\"../images/iqr.gif\" alt=\"Drawing\" style=\"width: 350px;\"/></center>\n",
    "***\n",
    "\n"
   ]
  },
  {
   "cell_type": "markdown",
   "metadata": {
    "slideshow": {
     "slide_type": "slide"
    }
   },
   "source": [
    "## Inter-Quartile Range - Intuition \n",
    "***\n",
    "This is also known as a *Boxplot* or *Box & Whisker Diagram* and depending on our data, it also looks like this: \n",
    "***\n",
    "<center><img src=\"../images/boxplot.png\" alt=\"Drawing\" style=\"width: 250px;\"/></center>"
   ]
  },
  {
   "cell_type": "markdown",
   "metadata": {
    "slideshow": {
     "slide_type": "slide"
    }
   },
   "source": [
    "## John's Approach - 2 \n",
    "***\n",
    "- John begins understanding what the intuition behind outliers are. But mathematically, he still doesn't know how to calculate what's the \"*Upper Limit*\" and what's the \"*Lower Limit*\"\n",
    "- First of all, it's easy to tell that \n",
    "    - Interquartile Range, IQR = Q3 - Q1 (it is the central 50% of data)\n",
    "    - Where: \n",
    "        - Q1 = Median of First half of observations arranged in Ascending Order \n",
    "        - Q3 = Median of 2nd Half of observations arranged in Ascending Order\n",
    "- He learns about Outliers too! \n",
    "        \n",
    "  "
   ]
  },
  {
   "cell_type": "markdown",
   "metadata": {
    "slideshow": {
     "slide_type": "slide"
    }
   },
   "source": [
    "## John's Approach 2 \n",
    "***\n",
    "- If a data point is below Q1 – 1.5×IQR or above Q3 + 1.5×IQR, it is viewed as being too far from the central values to be reasonable\n",
    "\n",
    "- These are outliers as shown as Black Dots in the image on the previous slide\n",
    "\n",
    "- John also reads that these \"*Outliers*\" have an effect on the Mean! \n",
    "\n",
    "- Let's try and visually understand what this means\n"
   ]
  },
  {
   "cell_type": "markdown",
   "metadata": {
    "slideshow": {
     "slide_type": "slide"
    }
   },
   "source": [
    "<img src=\"../images/Concept-Alert.png\" alt=\"Concept-Alert\" style=\"width: 100px;float:left; margin-right:15px\"/>\n",
    "<br /> \n",
    "## Outliers, Mean and Median\n",
    "***\n",
    "Let's consider some scores of Pre-school children in their Reflexes Test\n",
    "***\n",
    "<center><img src=\"../images/outliers.png\" alt=\"Drawing\" style=\"width: 500px;\"/></center>"
   ]
  },
  {
   "cell_type": "markdown",
   "metadata": {
    "slideshow": {
     "slide_type": "slide"
    }
   },
   "source": [
    "## Outliers, Mean and Median\n",
    "***\n",
    "- We see that the mean is affected by these \"outliers\" and do not give a good estimate behind all the values\n",
    "- Even though 8 out of 10 students scored below 6, the mean is **6**!\n",
    "- In this case, taking the median is a much better Estimate as **3.25** represents a good estimate of how the class performed as a whole! "
   ]
  },
  {
   "cell_type": "markdown",
   "metadata": {
    "slideshow": {
     "slide_type": "slide"
    }
   },
   "source": [
    "## John's Approach - 2 \n",
    "***\n",
    "- Therefore, to get rid of outliers, John calculates the **Median**\n",
    "- And he also plots the Box and Whisker Diagram to get an idea of the House Prices and see the Outliers"
   ]
  },
  {
   "cell_type": "code",
   "execution_count": 6,
   "metadata": {
    "slideshow": {
     "slide_type": "subslide"
    }
   },
   "outputs": [
    {
     "name": "stdout",
     "output_type": "stream",
     "text": [
      "163000.0\n",
      "Q1: 129975.0\n",
      "Q3: 214000.0\n",
      "IQR: 84025.0\n"
     ]
    }
   ],
   "source": [
    "import numpy as np\n",
    "median = np.median(Sales_price)\n",
    "print(median)\n",
    "\n",
    "q1 = Sales_price.quantile(0.25)\n",
    "q3 = Sales_price.quantile(0.75)\n",
    "print((\"Q1:\", q1))\n",
    "print((\"Q3:\", q3))\n",
    "print((\"IQR:\", q3 - q1))"
   ]
  },
  {
   "cell_type": "markdown",
   "metadata": {
    "slideshow": {
     "slide_type": "slide"
    }
   },
   "source": [
    "## John's Approach - 2 \n",
    "***\n",
    "- Wow! The Median is ~ 20,000 dollars less!\n",
    "- Now John thinks that he can save more money and get's a good estimate of the House Prices in Brooklyn, New York "
   ]
  },
  {
   "cell_type": "markdown",
   "metadata": {
    "slideshow": {
     "slide_type": "slide"
    }
   },
   "source": [
    "## John is Happy! But seriously,  brush your teeth John..\n",
    "***\n",
    "<center><img src=\"../images/meme_johnsmile.jpg\" alt=\"Drawing\" style=\"width: 500px;\"/></center>"
   ]
  },
  {
   "cell_type": "markdown",
   "metadata": {
    "slideshow": {
     "slide_type": "slide"
    }
   },
   "source": [
    "<img src=\"../images/Technical-Stuff.png\" alt=\"Concept-Alert\" style=\"width: 100px;float:left; margin-right:15px\"/>\n",
    "<br /> \n",
    "\n",
    "## Box & Whisker Diagram for John\n",
    "***"
   ]
  },
  {
   "cell_type": "code",
   "execution_count": 7,
   "metadata": {
    "slideshow": {
     "slide_type": "subslide"
    }
   },
   "outputs": [
    {
     "data": {
      "image/png": "[encoded data removed]",
      "text/plain": [
       "<matplotlib.figure.Figure at 0x7efeb24ab710>"
      ]
     },
     "metadata": {},
     "output_type": "display_data"
    }
   ],
   "source": [
    "import matplotlib.pyplot as plt\n",
    "%matplotlib inline\n",
    "\n",
    "plt.boxplot(Sales_price)\n",
    "plt.show()"
   ]
  },
  {
   "cell_type": "markdown",
   "metadata": {
    "slideshow": {
     "slide_type": "slide"
    }
   },
   "source": [
    "## Box & Whisker for John \n",
    "***\n",
    " - So now, John's found out that there are quite a few outliers too. \n",
    " - He calculates the no. of outliers"
   ]
  },
  {
   "cell_type": "code",
   "execution_count": 8,
   "metadata": {
    "slideshow": {
     "slide_type": "subslide"
    }
   },
   "outputs": [
    {
     "name": "stdout",
     "output_type": "stream",
     "text": [
      "3937.5\n",
      "340037.5\n"
     ]
    }
   ],
   "source": [
    "## Enter Code to find no. of outliers\n",
    "\n",
    "outlier_lower_limit = q1 - 1.5*(q3 - q1)\n",
    "outlier_upper_limit = q3 + 1.5*(q3 - q1)\n",
    "print(outlier_lower_limit)\n",
    "print(outlier_upper_limit)"
   ]
  },
  {
   "cell_type": "code",
   "execution_count": 9,
   "metadata": {
    "slideshow": {
     "slide_type": "fragment"
    }
   },
   "outputs": [
    {
     "name": "stdout",
     "output_type": "stream",
     "text": [
      "lower_limit_outliers: 0\n",
      "lower_limit_outliers: 61\n",
      "total outliers: 61\n"
     ]
    }
   ],
   "source": [
    "lower_limit_outliers = Sales_price[Sales_price < outlier_lower_limit].count()\n",
    "upper_limit_outliers = Sales_price[Sales_price > outlier_upper_limit].count()\n",
    "print((\"lower_limit_outliers:\", lower_limit_outliers))\n",
    "print((\"lower_limit_outliers:\", upper_limit_outliers))\n",
    "print((\"total outliers:\", upper_limit_outliers + lower_limit_outliers))"
   ]
  },
  {
   "cell_type": "markdown",
   "metadata": {
    "slideshow": {
     "slide_type": "slide"
    }
   },
   "source": [
    "<img src=\"../images/Concept-Alert.png\" alt=\"Concept-Alert\" style=\"width: 100px;float:left; margin-right:15px\"/>\n",
    "<br /> \n",
    "## What John didn't do! - Skewness\n",
    "***\n",
    " - Although the Box & Whisker plot is a good method to get an intution on the number of outliers; another good way to find out if we need to consider the median is by checking the: Skewness in distribution.\n",
    " - We know that the Median is **more robust** to outliers than the mean, thus giving us a better estimate of the \"*Central Tendency*\" of our dataset!\n",
    " - But what is Skewness? \n",
    " - Let's build our intuition"
   ]
  },
  {
   "cell_type": "markdown",
   "metadata": {
    "slideshow": {
     "slide_type": "slide"
    }
   },
   "source": [
    "<img src=\"../images/Concept-Alert.png\" alt=\"Concept-Alert\" style=\"width: 100px;float:left; margin-right:15px\"/>\n",
    "<br /> \n",
    "## Plot a Histogram of the data\n",
    "***\n",
    " - Let's plot a histogram, which is nothing but a Frequency Plot of the no. of times the values in our particular data are observed!\n",
    " - These values are arranged in \"bins\"\n",
    " - Each \"bin\" is a range of values and their height (or y-values) determine **The number of times values in THAT range appear in our dataset!** \n",
    " - Let's have a look at the Histogram John would've got if he had looked into this"
   ]
  },
  {
   "cell_type": "code",
   "execution_count": 10,
   "metadata": {
    "scrolled": true,
    "slideshow": {
     "slide_type": "subslide"
    }
   },
   "outputs": [
    {
     "data": {
      "image/png": "[encoded data removed]",
      "text/plain": [
       "<matplotlib.figure.Figure at 0x7efeb23ab710>"
      ]
     },
     "metadata": {},
     "output_type": "display_data"
    }
   ],
   "source": [
    "plt.hist(Sales_price, bins=60)\n",
    "plt.show()"
   ]
  },
  {
   "cell_type": "markdown",
   "metadata": {
    "slideshow": {
     "slide_type": "subslide"
    }
   },
   "source": [
    "<img src=\"../images/Concept-Alert.png\" alt=\"Concept-Alert\" style=\"width: 100px;float:left; margin-right:15px\"/>\n",
    "<br /> \n",
    "## Analyzing the Histogram\n",
    "***\n",
    "- What can we tell from the Histogram and from the tuple of 2 arrays we got as the output? \n",
    "\n",
    "\n",
    "1. Let's start with the Arrays- The First output array indicates the *frequency* of values in that range appearing in the data\n",
    "2. The second output shows the First value of the range of that bin \n",
    "    - Each bin has a range i.e. [A,B]. \n",
    "    - The no. of times values from our dataset appear between A and B, is plotted on the y-axis as the Frequency!\n",
    "    \n",
    "3. Putting it all together, we now know that in the range of prices from [34900, 106910] we have **148** observations"
   ]
  },
  {
   "cell_type": "markdown",
   "metadata": {
    "slideshow": {
     "slide_type": "slide"
    }
   },
   "source": [
    "## Analyzing the Histogram\n",
    "***\n",
    " - By just looking, we can tell that the Histogram is not peaked around the center of ranges\n",
    " - The *peak* is towards the **left** of the plot. \n",
    " \n",
    " ***\n",
    "<center><img src=\"../images/skewness.jpg\" alt=\"Drawing\" style=\"width: 500px;\"/></center>\n"
   ]
  },
  {
   "cell_type": "markdown",
   "metadata": {
    "slideshow": {
     "slide_type": "slide"
    }
   },
   "source": [
    "## Analyzing the Histogram\n",
    "***\n",
    "- Thus, we see that our Histogram is \"*Positively Skewed*\"\n",
    "\n",
    "- We can see different examples of Skewness from the image on the previous slide and see how Mean, and the Median are affected in each distribution\n",
    "\n",
    "\n",
    "- Checking the Positively Skewed distribution we know that our Mean = ~ 180,000 and the Median = ~ 160,000! \n",
    "\n",
    "- John hasn't really bothered about checking the \"Mode\" of his data but let's cover that concept quickly."
   ]
  },
  {
   "cell_type": "markdown",
   "metadata": {
    "slideshow": {
     "slide_type": "slide"
    }
   },
   "source": [
    "<img src=\"../images/Concept-Alert.png\" alt=\"Concept-Alert\" style=\"width: 100px;float:left; margin-right:15px\"/>\n",
    "<br /> \n",
    "## Mode\n",
    "***\n",
    " - Simply put:  Mode is the most frequently occurring data point in the given data set. \n",
    " - We arrange the data in increasing order before finding the mode\n",
    " - Example The following is an ordered array of the values from below\n",
    "\n",
    "7.00 11.00 14.25 15.00 15.00 15.50 19.00 19.00 19.00 19.00 21.00 22.00 23.00 24.00 25.00 27.00 27.00 28.00 34.22 43.25\n",
    "    \n",
    " - This grouping makes it easier to see that 19.00 is the most frequently occurring number. In the case of a tie for the most frequently occurring value,two modes are listed.Then the data are said to be bimodal."
   ]
  },
  {
   "cell_type": "code",
   "execution_count": 12,
   "metadata": {
    "slideshow": {
     "slide_type": "fragment"
    }
   },
   "outputs": [
    {
     "name": "stdout",
     "output_type": "stream",
     "text": [
      "140000\n"
     ]
    }
   ],
   "source": [
    "mode = Sales_price.mode()\n",
    "print((mode[0]))"
   ]
  },
  {
   "cell_type": "markdown",
   "metadata": {
    "slideshow": {
     "slide_type": "slide"
    }
   },
   "source": [
    "## Mean, Median, Mode: When to use what? \n",
    "\n",
    "- The 'best' measure of Central Tendency is often dependent on the **Type** of data you're analyzing! \n",
    "\n",
    "- So it gets pretty confusing for a person as to decide which measure should be used. Lets delve deeper into this and intuitively figure out when to use what!"
   ]
  },
  {
   "cell_type": "markdown",
   "metadata": {
    "slideshow": {
     "slide_type": "subslide"
    }
   },
   "source": [
    "## When is the mean the best measure of central tendency?\n",
    "\n",
    "- The mean is usually the best measure of central tendency to use when your data distribution is continuous and symmetrical, such as when your data is normally distributed. \n",
    "\n",
    "- However, it all depends on what you are trying to show from your data.\n",
    "\n",
    "- You will learn about Normal Distributions during your session in Inferential Statistics "
   ]
  },
  {
   "cell_type": "markdown",
   "metadata": {
    "slideshow": {
     "slide_type": "subslide"
    }
   },
   "source": [
    "## When is the mode the best measure of central tendency?\n",
    "\n",
    "- The mode is the least used of the measures of central tendency \n",
    "\n",
    "- The mode will be the best measure of central tendency (as it is the only one appropriate to use) when dealing with nominal data. \n",
    "\n",
    "- The mean and/or median are usually preferred when dealing with all other types of data, but this does not mean it is never used with these data types"
   ]
  },
  {
   "cell_type": "markdown",
   "metadata": {
    "slideshow": {
     "slide_type": "subslide"
    }
   },
   "source": [
    "### What is nominal data?\n",
    "\n",
    "- Nominal variables are variables that have two or more categories, but which do not have an intrinsic order. \n",
    "\n",
    "- For example\n",
    "    - a real estate agent could classify their types of property into distinct categories such as houses, condos, co-ops or bungalows. So \"type of property\" is a nominal variable with 4 categories called houses, condos, co-ops and bungalows.\n",
    "\n",
    "- Of note, the different categories of a nominal variable can also be referred to as groups or levels of the nominal variable.     \n",
    "    - Another example of a nominal variable would be classifying where people live in the USA by state. In this case there will be many more levels of the nominal variable (50 in fact)."
   ]
  },
  {
   "cell_type": "markdown",
   "metadata": {
    "slideshow": {
     "slide_type": "subslide"
    }
   },
   "source": [
    "## When is the median the best measure of central tendency?\n",
    "\n",
    "- The median is usually preferred to other measures of central tendency when your data set is skewed (i.e., forms a skewed distribution) or you are dealing with ordinal data. \n",
    "\n",
    "- We already know what skewed data is! \n",
    "\n",
    "\n",
    "- However, the mode can also be appropriate in these situations, but **IS NOT** as commonly used as the median."
   ]
  },
  {
   "cell_type": "markdown",
   "metadata": {
    "slideshow": {
     "slide_type": "subslide"
    }
   },
   "source": [
    "## What is the most appropriate measure of central tendency when the data has outliers?\n",
    "\n",
    "- The median is usually preferred in these situations because the value of the mean can be distorted by the outliers. \n",
    "\n",
    "- However, it will depend on how influential the outliers are. If they do not significantly distort the mean, using the mean as the measure of central tendency will usually be preferred."
   ]
  },
  {
   "cell_type": "markdown",
   "metadata": {
    "slideshow": {
     "slide_type": "subslide"
    }
   },
   "source": [
    "### In a normally distributed data set, which is greatest: mode, median or mean?\n",
    "\n",
    "- If the data set is perfectly normal, the mean, median and mean are equal to each other (i.e., the same value).\n",
    "\n",
    "### For any data set, which measures of central tendency have only one value?\n",
    "\n",
    "- The median and mean can only have one value for a given data set. The mode can have more than one value"
   ]
  },
  {
   "cell_type": "markdown",
   "metadata": {
    "slideshow": {
     "slide_type": "slide"
    }
   },
   "source": [
    "<img src=\"../images/Technical-Stuff.png\" alt=\"Concept-Alert\" style=\"width: 100px;float:left; margin-right:15px\"/>\n",
    "<br /> \n",
    "## Plotting the Mean, Median & Mode on John's Data\n",
    "***"
   ]
  },
  {
   "cell_type": "code",
   "execution_count": 13,
   "metadata": {
    "slideshow": {
     "slide_type": "subslide"
    }
   },
   "outputs": [
    {
     "data": {
      "image/png": "[encoded data removed]",
      "text/plain": [
       "<matplotlib.figure.Figure at 0x7efeb238cdd8>"
      ]
     },
     "metadata": {},
     "output_type": "display_data"
    }
   ],
   "source": [
    "## plot the hist with mean median and mode - This needs to be checked! \n",
    "\n",
    "plt.figure(figsize=(10, 6))\n",
    "plt.hist(Sales_price, bins=40)\n",
    "plt.plot([mode]*300, list(range(300)), label='mode')\n",
    "plt.plot([median]*300, list(range(300)), label='median')\n",
    "plt.plot([mean]*300, list(range(300)), label='mean')\n",
    "plt.ylim(0, 250)\n",
    "plt.legend()\n",
    "plt.show()"
   ]
  },
  {
   "cell_type": "markdown",
   "metadata": {
    "slideshow": {
     "slide_type": "slide"
    }
   },
   "source": [
    "## Spread\n",
    "***\n",
    " - Now John thinks that he has found his dream house \n",
    " - He cross-checks the price and gets to know that it's for 250,000\n",
    " - He wants to check how far the Price of this house is from the mean when compared to other points in the data set\n",
    " - Take a minute here and read the previous point again.\n",
    " \n",
    " "
   ]
  },
  {
   "cell_type": "markdown",
   "metadata": {
    "slideshow": {
     "slide_type": "slide"
    }
   },
   "source": [
    "## Good Choice John, but where do you stand? \n",
    "\n",
    " ***\n",
    "<center><img src=\"../images/house.jpg\" alt=\"Drawing\" style=\"width: 500px;\"/></center>"
   ]
  },
  {
   "cell_type": "markdown",
   "metadata": {
    "slideshow": {
     "slide_type": "slide"
    }
   },
   "source": [
    "## Spread of the Data\n",
    "***\n",
    "So Mathematically speaking, John is trying to this: \n",
    "\n",
    "\n",
    "  (250,000 - mean)/Random Variation\n",
    "  \n",
    "  \n",
    "  - We know the mean, we found that before\n",
    "  - What is Random Variation? \n",
    "     - It's nothing but the *Average variation of the data from the mean* \n",
    "  - How do we measure this? "
   ]
  },
  {
   "cell_type": "markdown",
   "metadata": {
    "slideshow": {
     "slide_type": "subslide"
    }
   },
   "source": [
    "## To start off \n",
    "***\n",
    "\n",
    " - The Range is the easiest and the most naive method to check the spread of the data\n",
    "  - It's simply: \n",
    "    - Max Value of Data - Min Value of data\n",
    " - Let's check the Range of John's data"
   ]
  },
  {
   "cell_type": "code",
   "execution_count": 14,
   "metadata": {
    "slideshow": {
     "slide_type": "slide"
    }
   },
   "outputs": [
    {
     "data": {
      "text/plain": [
       "720100"
      ]
     },
     "execution_count": 14,
     "metadata": {},
     "output_type": "execute_result"
    }
   ],
   "source": [
    "Range = np.max(Sales_price)-np.min(Sales_price)\n",
    "Range"
   ]
  },
  {
   "cell_type": "markdown",
   "metadata": {
    "slideshow": {
     "slide_type": "subslide"
    }
   },
   "source": [
    "<img src=\"../images/Concept-Alert.png\" alt=\"Concept-Alert\" style=\"width: 100px;float:left; margin-right:15px\"/>\n",
    "<br /> \n",
    "## Mean Deviation from the Mean\n",
    "***\n",
    "- Easy and Intuitive: \n",
    "\n",
    "$ Mean  Deviation =  {\\frac{1}{N}\\sum\\limits_{i = 1}^N {\\left( {x_i - \\bar x} \\right) } }$\n",
    "\n",
    "- Honestly, this couldn't be more wrong, try and think why! \n",
    "\n"
   ]
  },
  {
   "cell_type": "markdown",
   "metadata": {
    "slideshow": {
     "slide_type": "slide"
    }
   },
   "source": [
    "## Mean Deviation - Not a good Idea\n",
    "***\n",
    "- If you break down the formula: \n",
    "   - $\\frac{1}{N}\\sum\\limits_{i = 1}^N {x_i} $  is nothing but the Mean! \n",
    "   - The second term is  (n x mean)/n = Mean! \n",
    "   - Therefore, we end up with Mean - Mean = 0! \n",
    "   - This applies to all cases! In every dataset\n",
    "- Therefore, this is not a good way to measure as values are more and lesser than the mean, **CENTERED AROUND THE MEAN**"
   ]
  },
  {
   "cell_type": "markdown",
   "metadata": {
    "slideshow": {
     "slide_type": "slide"
    }
   },
   "source": [
    "## Getting Rid of the Sign Problem\n",
    "***\n",
    "- Is there a good way to get rid of the problem caused due to the signs? \n",
    "- Yes there is, just use absolute differences! (Shown below) \n",
    "\n",
    " ***\n",
    "<center><img src=\"../images/mean_abs.png\" alt=\"Drawing\" style=\"width: 250px;\"/></center>"
   ]
  },
  {
   "cell_type": "markdown",
   "metadata": {
    "slideshow": {
     "slide_type": "subslide"
    }
   },
   "source": [
    "## There's always a but...\n",
    "\n",
    " ***\n",
    "<center><img src=\"../images/meme_lotr.jpg\" alt=\"Drawing\" style=\"width: 500px;\"/></center>"
   ]
  },
  {
   "cell_type": "markdown",
   "metadata": {
    "slideshow": {
     "slide_type": "subslide"
    }
   },
   "source": [
    "## Why? \n",
    "***\n",
    "- Well, even though Mean Absolute Deviation gets rid of the sign differences, it is **RARELY USED**\n",
    "- It causes *too many mathematical difficulties in later calculations!* \n",
    "- So, it turns our Sean Bean is right, once again.."
   ]
  },
  {
   "cell_type": "markdown",
   "metadata": {
    "slideshow": {
     "slide_type": "slide"
    }
   },
   "source": [
    "<img src=\"../images/Concept-Alert.png\" alt=\"Concept-Alert\" style=\"width: 100px;float:left; margin-right:15px\"/>\n",
    "<br /> \n",
    "## Mean squared distance from the mean \n",
    "***\n",
    " - Now if we square the differences, we are able to get rid of the signs. \n",
    " - ${\\frac{1}{N}\\sum\\limits_{i = 1}^N {\\left( {x_i - \\bar x} \\right)^2 } }$\n",
    " - THIS IS CALLED THE VARIANCE! \n",
    " - It's the mean squared distance of the observation from the mean"
   ]
  },
  {
   "cell_type": "markdown",
   "metadata": {
    "slideshow": {
     "slide_type": "subslide"
    }
   },
   "source": [
    "<img src=\"../images/Concept-Alert.png\" alt=\"Concept-Alert\" style=\"width: 100px;float:left; margin-right:15px\"/>\n",
    "<br /> \n",
    "## Variance - Formula\n",
    "***\n",
    "- Therefore variance is calculated as: \n",
    "\n",
    "$ {σ}^2 (Variance) = {\\frac{1}{N}\\sum\\limits_{i = 1}^N {\\left( {x_i - \\bar x} \\right)^2 } }$\n",
    "\n",
    "- It is denoted by ${σ}^2$"
   ]
  },
  {
   "cell_type": "code",
   "execution_count": 15,
   "metadata": {
    "slideshow": {
     "slide_type": "subslide"
    }
   },
   "outputs": [
    {
     "name": "stdout",
     "output_type": "stream",
     "text": [
      "6311111264.3\n"
     ]
    }
   ],
   "source": [
    "variance = Sales_price.var()\n",
    "print(variance)"
   ]
  },
  {
   "cell_type": "markdown",
   "metadata": {
    "slideshow": {
     "slide_type": "slide"
    }
   },
   "source": [
    "## Interpretation and Standard Deviation\n",
    "***\n",
    " - In John's case, Variance is calculate in terms of ${dollars}^2$\n",
    " - This isn't really practical as the mean of the Prices is expressed in \"dollars\" \n",
    " - Therefore, we can simply square our Variance and obtain"
   ]
  },
  {
   "cell_type": "markdown",
   "metadata": {
    "slideshow": {
     "slide_type": "slide"
    }
   },
   "source": [
    "<img src=\"../images/Concept-Alert.png\" alt=\"Concept-Alert\" style=\"width: 100px;float:left; margin-right:15px\"/>\n",
    "<br /> \n",
    "## Standard Deviation\n",
    "***\n",
    "- Let's take the *squareroot of the mean squared distance from the mean* \n",
    "- This is nothing but the ** Standard Deviation** and in John's case this is expressed in dollars\n",
    "- It is denoted by σ\n",
    "\n",
    "$σ = \\sqrt{\\frac{1}{N}\\sum\\limits_{i = 1}^N {\\left( {x_i - \\bar x} \\right)^2 } }$\n"
   ]
  },
  {
   "cell_type": "markdown",
   "metadata": {
    "slideshow": {
     "slide_type": "slide"
    }
   },
   "source": [
    "Let's find out the Standard Deviation of John's data"
   ]
  },
  {
   "cell_type": "code",
   "execution_count": 16,
   "metadata": {
    "slideshow": {
     "slide_type": "subslide"
    }
   },
   "outputs": [
    {
     "name": "stdout",
     "output_type": "stream",
     "text": [
      "79442.50288288662\n"
     ]
    }
   ],
   "source": [
    "from math import sqrt\n",
    "\n",
    "std = sqrt(variance)\n",
    "print(std)"
   ]
  },
  {
   "cell_type": "markdown",
   "metadata": {
    "slideshow": {
     "slide_type": "slide"
    }
   },
   "source": [
    "## John's Approach - 3 \n",
    "***\n",
    "- Let's check what John was originally set out to check\n",
    "- How far the Price of this house is from the mean when compared to other points in the data set\n",
    "- We want to check this: \n",
    "\n",
    "(250,000 - mean)/Random Variation\n",
    "\n",
    "- The Standard Deviation is a good measure of spread of Random Variation in a given data \n",
    "- Thus we want to check: \n",
    "\n",
    "(250,000 - mean)/Standard Deviation"
   ]
  },
  {
   "cell_type": "code",
   "execution_count": 17,
   "metadata": {
    "slideshow": {
     "slide_type": "fragment"
    }
   },
   "outputs": [
    {
     "data": {
      "text/plain": [
       "0.86954465937993375"
      ]
     },
     "execution_count": 17,
     "metadata": {},
     "output_type": "execute_result"
    }
   ],
   "source": [
    "(250000 - mean)/std"
   ]
  },
  {
   "cell_type": "markdown",
   "metadata": {
    "slideshow": {
     "slide_type": "slide"
    }
   },
   "source": [
    "## Interpretation \n",
    "***\n",
    "- From the output above we deduce the following (or rather John deduces the following) \n",
    "\n",
    "We can say that **The price of John's Dream House is ~0.87 times away from the mean than the Standard Deviation** (which is the root of mean-squared distances of all data points from the mean) "
   ]
  },
  {
   "cell_type": "markdown",
   "metadata": {
    "slideshow": {
     "slide_type": "slide"
    }
   },
   "source": [
    "## Importance of Standard Deviation\n",
    "***\n",
    "- If we know that our data is *Normally Distributed*, we can confidently say that: \n",
    "   - ~68% of the data is within one Std. Dev. from the mean \n",
    "   - ~95% of the data is within 2 Std. Dev. from the mean \n",
    "   - ~99.7% of the data is within 3 Std Dev from the mean \n",
    "    ***\n",
    "<center><img src=\"../images/normal_curve.png\" alt=\"Drawing\" style=\"width: 500px;\"/></center>"
   ]
  },
  {
   "cell_type": "markdown",
   "metadata": {
    "slideshow": {
     "slide_type": "slide"
    }
   },
   "source": [
    "<img src=\"../images/Concept-Alert.png\" alt=\"Concept-Alert\" style=\"width: 100px;float:left; margin-right:15px\"/>\n",
    "<br /> \n",
    "## Correlation\n",
    "***\n",
    " - Now John is curious on how the price is affected by different factors\n",
    " - To put it simply, he wants to check how the Price of the House is affected by different attributes of the House such as the Living Room area, Garage Area, etc. \n",
    " - This is nothing but Correlation! "
   ]
  },
  {
   "cell_type": "markdown",
   "metadata": {
    "slideshow": {
     "slide_type": "subslide"
    }
   },
   "source": [
    "## Calculating the Correlation Coefficient\n",
    "***\n",
    "- A good way to determine this correlation coefficient is to use an already existing method known as Pearson Correlation Coefficient \n",
    "- This is the most common method too. \n",
    "- Calculating this we get values in the range of [-1,1] \n",
    "- This is a bit complicated but easy when you break it down "
   ]
  },
  {
   "cell_type": "markdown",
   "metadata": {
    "slideshow": {
     "slide_type": "subslide"
    }
   },
   "source": [
    "<center><img src=\"../images/correlation.jpg\" alt=\"Drawing\" style=\"width: 500px;\"/></center>"
   ]
  },
  {
   "cell_type": "markdown",
   "metadata": {
    "slideshow": {
     "slide_type": "slide"
    }
   },
   "source": [
    "## Correlation Explained\n",
    "***\n",
    "- Understanding values: \n",
    "   - 1 indicates a strong positive relationship.\n",
    "   - -1 indicates a strong negative relationship.\n",
    "   - A result of zero indicates no relationship at all.\n",
    "***\n",
    "<center><img src=\"../images/correlation2.png\" alt=\"Drawing\" style=\"width: 500px;\"/></center>\n",
    "\n",
    "   "
   ]
  },
  {
   "cell_type": "markdown",
   "metadata": {
    "slideshow": {
     "slide_type": "slide"
    }
   },
   "source": [
    "## Interpretation \n",
    "***\n",
    " - A correlation coefficient of 1 means that for every positive increase of 1 in one variable, there is a positive increase of 1 in the other.\n",
    " - A correlation coefficient of -1 means that for every positive increase of 1 in one variable, there is a negative decrease of 1 in the other.\n",
    " - Zero means that for every increase, there isn’t a positive or negative increase. The two just aren’t related."
   ]
  },
  {
   "cell_type": "markdown",
   "metadata": {
    "slideshow": {
     "slide_type": "slide"
    }
   },
   "source": [
    "## John wants to know\n",
    "***\n",
    "- What is the Correlation between the Sales price and the Living Room Area?\n",
    "\n",
    "- Let's find out. This should be easy.\n"
   ]
  },
  {
   "cell_type": "code",
   "execution_count": 18,
   "metadata": {
    "slideshow": {
     "slide_type": "subslide"
    }
   },
   "outputs": [
    {
     "data": {
      "text/plain": [
       "0.70862447761265224"
      ]
     },
     "execution_count": 18,
     "metadata": {},
     "output_type": "execute_result"
    }
   ],
   "source": [
    "living_room_area = data.GrLivArea\n",
    "np.corrcoef(Sales_price, living_room_area)[0,1]"
   ]
  },
  {
   "cell_type": "markdown",
   "metadata": {
    "slideshow": {
     "slide_type": "slide"
    }
   },
   "source": [
    "## In - class Activity\n",
    "***\n",
    " - What is the interpretation of the above output? \n",
    "    - Frame your answer in **Words** and not just Numbers and Variables"
   ]
  },
  {
   "cell_type": "markdown",
   "metadata": {
    "slideshow": {
     "slide_type": "slide"
    }
   },
   "source": [
    "## More on Correlation\n",
    "***\n",
    "The absolute value of the correlation coefficient gives us the relationship strength. The larger the number, the stronger the relationship. For example, |-.75| = .75, which has a stronger relationship than .65.\n",
    "\n",
    "\n",
    " - Also, we can creatively plot \"heatmaps\" in Python to make our plot fancy and see the Correlation trends between Several variables! \n",
    " \n",
    " \n",
    " - This is a very handy trick used by Data Scientists All over the world! \n",
    " \n",
    " - The next slide displays the code where The Correlation trends amongst the \"Lot Area\", Living Room Area, Garage Area and Sales Price of the house are captured! "
   ]
  },
  {
   "cell_type": "code",
   "execution_count": 19,
   "metadata": {
    "slideshow": {
     "slide_type": "slide"
    }
   },
   "outputs": [
    {
     "name": "stdout",
     "output_type": "stream",
     "text": [
      "             LotArea  GrLivArea  GarageArea  SalePrice\n",
      "LotArea     1.000000   0.263116    0.180403   0.263843\n",
      "GrLivArea   0.263116   1.000000    0.468997   0.708624\n",
      "GarageArea  0.180403   0.468997    1.000000   0.623431\n",
      "SalePrice   0.263843   0.708624    0.623431   1.000000\n"
     ]
    },
    {
     "data": {
      "image/png": "[encoded data removed]",
      "text/plain": [
       "<matplotlib.figure.Figure at 0x7efeb22e2f98>"
      ]
     },
     "metadata": {},
     "output_type": "display_data"
    }
   ],
   "source": [
    "#considering 4 continous variable and finding the correlation\n",
    "import seaborn as sns\n",
    "%matplotlib inline\n",
    "x = data[['LotArea','GrLivArea','GarageArea','SalePrice']]\n",
    "corr = x.corr()\n",
    "sns.heatmap(corr)\n",
    "print(corr)"
   ]
  },
  {
   "cell_type": "markdown",
   "metadata": {
    "slideshow": {
     "slide_type": "subslide"
    }
   },
   "source": [
    "\n",
    "\n",
    "However, correlation does not imply causation. There may be, for example, an unknown factor that influences both variables similarly.\n",
    "\n",
    "Causation indicates that one event is the result of the occurrence of the other event; i.e. there is a causal relationship between the two events. This is also referred to as cause and effect. \n",
    "\n",
    "A statistically significant correlation has been reported, for example, between yellow cars and a lower incidence of accidents. That does not indicate that yellow cars are safer, but just that fewer yellow cars are involved in accidents. A third factor, such as the personality type of the purchaser of yellow cars, is more likely to be responsible than the color of the paint itself.\n",
    "\n"
   ]
  },
  {
   "cell_type": "markdown",
   "metadata": {
    "slideshow": {
     "slide_type": "slide"
    }
   },
   "source": [
    "<img src=\"../images/Recap.png\" alt=\"Recap\" style=\"width: 100px;float:left; margin-right:15px\"/>\n",
    "<br />\n",
    "# In-session Recap Time\n",
    "***\n",
    "- Mean\n",
    "- Median\n",
    "- Spread\n",
    "    - Range\n",
    "    - Interquantile Range\n",
    "- Mode\n",
    "- Variance\n",
    "- Correlation v/s Causation"
   ]
  },
  {
   "cell_type": "markdown",
   "metadata": {
    "slideshow": {
     "slide_type": "slide"
    }
   },
   "source": [
    "# Post Reads\n",
    "***\n",
    "* [Now that you have revised the basic statistics use this playground to be more creative with statistics](https://students.brown.edu/seeing-theory/)\n"
   ]
  },
  {
   "cell_type": "markdown",
   "metadata": {
    "slideshow": {
     "slide_type": "slide"
    }
   },
   "source": [
    "# Thank You\n",
    "***\n",
    "\n",
    "### Next Session: Basic Probability, Hypothesis Testing, t-test e.t.c\n",
    "For more queries - Reach out to [academics@greyatom.com](academics@greyatom.com)"
   ]
  },
  {
   "cell_type": "code",
   "execution_count": null,
   "metadata": {
    "collapsed": true
   },
   "outputs": [],
   "source": []
  }
 ],
 "metadata": {
  "anaconda-cloud": {},
  "celltoolbar": "Slideshow",
  "kernelspec": {
   "display_name": "Python 3",
   "language": "python",
   "name": "python3"
  },
  "language_info": {
   "codemirror_mode": {
    "name": "ipython",
    "version": 3
   },
   "file_extension": ".py",
   "mimetype": "text/x-python",
   "name": "python",
   "nbconvert_exporter": "python",
   "pygments_lexer": "ipython3",
   "version": "3.6.2"
  },
  "widgets": {
   "state": {},
   "version": "1.1.2"
  }
 },
 "nbformat": 4,
 "nbformat_minor": 2
}
